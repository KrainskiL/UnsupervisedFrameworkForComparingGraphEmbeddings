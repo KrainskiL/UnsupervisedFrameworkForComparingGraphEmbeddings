{
 "cells": [
  {
   "cell_type": "code",
   "execution_count": null,
   "metadata": {},
   "outputs": [],
   "source": [
    "import os\n",
    "import glob\n",
    "from scipy.stats import pearsonr, spearmanr, kendalltau\n",
    "import numpy as np\n",
    "import pandas as pd\n",
    "import matplotlib.pyplot as plt\n",
    "import seaborn as sns\n",
    "sns.set_style(\"ticks\")"
   ]
  },
  {
   "cell_type": "code",
   "execution_count": null,
   "metadata": {},
   "outputs": [],
   "source": [
    "def scatterplots(plots_dir:str,results_file,x:str,y:str,x_lab:str,y_lab:str,plot_suf:str,xy = False,corrs = True):\n",
    "    os.makedirs(plots_dir, exist_ok = True)\n",
    "    if type(results_file) == list:\n",
    "        df = pd.read_csv(results_file[0])\n",
    "        df_to_merge = pd.read_csv(results_file[1])\n",
    "        df = df.merge(df_to_merge,on=[\"graph\",\"emb\",\"dim\",\"param\"])\n",
    "    else:\n",
    "        df = pd.read_csv(results_file)\n",
    "    df.loc[df.param.astype(str) == '1','param'] = 'p=1.0,q=1.0'\n",
    "    df.loc[df.param.astype(str) == '9','param'] = 'p=9.0,q=0.11'\n",
    "    df.loc[df.param.astype(str) == '1.0','param'] = 'p=1.0,q=1.0'\n",
    "    df.loc[df.param.astype(str) == '9.0','param'] = 'p=9.0,q=0.11'\n",
    "    df.loc[df.param.astype(str) == '0.11','param'] = 'p=0.11,q=9.0'\n",
    "    for graph in [\"sbm10k\",\"lfr10k\",\"nlfr10k\",\"email\"]:\n",
    "        for emb in [\"hope\",\"n2v\"]:\n",
    "            plt.clf()\n",
    "            mask = (df.graph == graph) & (df.emb == emb)\n",
    "            if emb == \"hope\":\n",
    "                order = [\"ppr\",\"katz\",\"aa\"]\n",
    "            else:\n",
    "                order = [\"p=0.11,q=9.0\",\"p=1.0,q=1.0\",\"p=9.0,q=0.11\"]\n",
    "            ax = sns.scatterplot(x=x,y=y,hue=\"param\",hue_order=order,size=\"dim\",data=df[mask])\n",
    "            if xy:\n",
    "                xp = ax.get_xlim()\n",
    "                ax.plot(xp,xp, color=\"gray\",linestyle='--')\n",
    "            display_graph = \"noisy LFR10k\" if graph == \"nlfr10k\" else graph.upper()\n",
    "            ax.set_title(f\"{display_graph} graph, {emb.upper()} embeddings\")\n",
    "            handles, labels = ax.get_legend_handles_labels()\n",
    "            ax.legend(handles=handles[:6]+[handles[-1]], labels=[\"Param\",*order,\"Dim\",2,32])\n",
    "            ax.set_xlabel(x_lab)\n",
    "            ax.set_ylabel(y_lab)\n",
    "            corr_val = round(pearsonr(df[x][mask],df[y][mask])[0],2)\n",
    "            ax.get_figure().text(0.64, 0.15, f\"Pearson's corr: {corr_val}\", ha ='left', fontsize = 12);\n",
    "            ax.get_figure().savefig(f'{plots_dir}/{graph}_{emb}_{plot_suf}.eps' , dpi=400)\n",
    "    if corrs:\n",
    "        print(\"Graph-Embedding Pearson Spearman Kendall-Tau\")\n",
    "        for graph in [\"sbm10k\",\"lfr10k\",\"nlfr10k\",\"email\"]:\n",
    "            for emb in [\"hope\",\"n2v\"]:\n",
    "                mask = (df.graph == graph) & (df.emb == emb)\n",
    "                x1 = df[x][mask]\n",
    "                x2 = df[y][mask]\n",
    "                print(graph.upper()+\"-\"+emb.upper(),round(pearsonr(x1,x2)[0],2), \\\n",
    "                round(spearmanr(x1,x2)[0],2), \\\n",
    "                round(kendalltau(x1,x2)[0],2))\n",
    "    return df"
   ]
  },
  {
   "cell_type": "code",
   "execution_count": null,
   "metadata": {},
   "outputs": [],
   "source": [
    "def normalized_plots(plots_dir:str,results_file:list,size:list,title_suf:str,plot_suf:str,alpha:float):\n",
    "    os.makedirs(plots_dir, exist_ok = True)\n",
    "    if type(results_file) == list:\n",
    "        df = pd.read_csv(results_file[0])\n",
    "        df_to_merge = pd.read_csv(results_file[1])\n",
    "        df = df.merge(df_to_merge,on=[\"graph\",\"emb\",\"dim\",\"param\"])\n",
    "    else:\n",
    "        df = pd.read_csv(results_file)\n",
    "    merged.loc[merged.param.astype(str) == '1','param'] = 'p=1.0,q=1.0'\n",
    "    merged.loc[merged.param.astype(str) == '9','param'] = 'p=9.0,q=0.11'\n",
    "    merged.loc[merged.param.astype(str) == '1.0','param'] = 'p=1.0,q=1.0'\n",
    "    merged.loc[merged.param.astype(str) == '9.0','param'] = 'p=9.0,q=0.11'\n",
    "    merged.loc[merged.param.astype(str) == '0.11','param'] = 'p=0.11,q=9.0'\n",
    "    min_scores = merged[['graph','best_div','best_auc']].groupby(['graph',]).min().reset_index().rename(columns={'best_div':'min_div','best_auc':'min_auc'})\n",
    "    merged_min = merged.merge(min_scores,on=[\"graph\"])\n",
    "    merged_min['normalized_div'] = merged_min.best_div/merged_min.min_div\n",
    "    merged_min['normalized_auc'] = merged_min.best_auc/merged_min.min_auc\n",
    "    for graph in [\"sbm10k\",\"lfr10k\",\"nlfr10k\",\"email\"]:\n",
    "            plt.clf()\n",
    "            mask = (merged_min.graph == graph)\n",
    "            ax = sns.scatterplot(x='normalized_auc',y='normalized_div',hue=\"emb\",hue_order=[\"hope\",\"n2v\"],size=size[0],sizes=(5, 150), alpha=alpha,data=merged_min[mask])\n",
    "            display_graph = \"noisy LFR10k\" if graph == \"nlfr10k\" else graph.upper()\n",
    "            ax.set_title(f\"{display_graph} graph{title_suf}\")\n",
    "            ax.set_xlabel(\"Normalized local score\")\n",
    "            ax.set_ylabel(\"Normalized global score\")\n",
    "            handles, labels = ax.get_legend_handles_labels()\n",
    "            ax.legend(handles=handles[:5]+[handles[-1]], labels=[\"Embedding\",\"HOPE\",\"N2V\",size[1],labels[-3],labels[-1]])\n",
    "            ax.get_figure().savefig(f'{plots_dir}/{graph}_{plot_suf}.pdf' , dpi=400)"
   ]
  },
  {
   "cell_type": "code",
   "execution_count": null,
   "metadata": {},
   "outputs": [],
   "source": [
    "def correlations(merged:pd.DataFrame, x:str):\n",
    "    print(\"Graph-Embedding Pearson Pearson Spearman Spearman Kendall-Tau Kendall-Tau\")\n",
    "    for graph in [\"sbm10k\",\"lfr10k\",\"nlfr10k\",\"email\"]:\n",
    "        for emb in [\"hope\",\"n2v\"]:\n",
    "            pear_div = []\n",
    "            pear_auc = []\n",
    "            spear_div = []\n",
    "            spear_auc = []\n",
    "            kend_div = []\n",
    "            kend_auc = []\n",
    "            for param in [\"ppr\",\"katz\",\"aa\"]:\n",
    "                if emb == \"n2v\":\n",
    "                    param = {\"ppr\":'p=1.0,q=1.0',\"katz\":'p=9.0,q=0.11',\"aa\":'p=0.11,q=9.0'}[param]\n",
    "                mask = (merged.graph == graph) & (merged.emb == emb) & (merged.param == param)\n",
    "                x1 = merged[x][mask]\n",
    "                y = merged.best_div[mask]\n",
    "                z = merged.best_auc[mask]\n",
    "                pear_div.append(pearsonr(x1,y)[0])\n",
    "                pear_auc.append(pearsonr(x1,z)[0])\n",
    "                spear_div.append(spearmanr(x1,y)[0])\n",
    "                spear_auc.append(spearmanr(x1,z)[0])\n",
    "                kend_div.append(kendalltau(x1,y)[0])\n",
    "                kend_auc.append(kendalltau(x1,z)[0])\n",
    "            print(graph.upper()+\"-\"+emb.upper(),round(np.mean(pear_div),2), \\\n",
    "            round(np.mean(pear_auc),2), \\\n",
    "            round(np.mean(spear_div),2), \\\n",
    "            round(np.mean(spear_auc),2), \\\n",
    "            round(np.mean(kend_div),2), \\\n",
    "            round(np.mean(kend_auc),2))"
   ]
  },
  {
   "cell_type": "markdown",
   "metadata": {},
   "source": [
    "# Exact scores"
   ]
  },
  {
   "cell_type": "code",
   "execution_count": null,
   "metadata": {},
   "outputs": [],
   "source": [
    "df = scatterplots(\"exp_exact\",'results/exact_scores.csv',\"best_div\",\"best_auc\",\n",
    "             \"Global score\",\"Local score\",\"div_auc\")"
   ]
  },
  {
   "cell_type": "markdown",
   "metadata": {},
   "source": [
    "# Approximate and exact scores"
   ]
  },
  {
   "cell_type": "code",
   "execution_count": null,
   "metadata": {},
   "outputs": [],
   "source": [
    "df = scatterplots(\"exp_approx_div\",['results/exact_scores.csv','results/approximate_scores.csv'],\n",
    "             \"best_div_x\",\"best_div_y\",\"Exact global score\",\"Approx. global score\",\"div\",True)"
   ]
  },
  {
   "cell_type": "code",
   "execution_count": null,
   "metadata": {},
   "outputs": [],
   "source": [
    "df = scatterplots(\"exp_approx_auc\",['results/exact_scores.csv','results/approximate_scores.csv'],\n",
    "             \"best_auc_x\",\"best_auc_y\",\"Exact local score\",\"Approx. local score\",\"auc\",True)"
   ]
  },
  {
   "cell_type": "markdown",
   "metadata": {},
   "source": [
    "# Correlation and ratio"
   ]
  },
  {
   "cell_type": "code",
   "execution_count": null,
   "metadata": {},
   "outputs": [],
   "source": [
    "plots_dir = \"exp_landmarks_corr\"\n",
    "os.makedirs(plots_dir,exist_ok=True)\n",
    "df = pd.read_csv('results/exact_scores.csv')\n",
    "df['param'] = df['param'].astype(str)\n",
    "exp_land_df = pd.read_csv(\"results/correlation_ratio.csv\")\n",
    "merged = df.merge(exp_land_df,on=[\"graph\",\"emb\",\"dim\",\"param\"])\n",
    "merged['auc_ratio'] = np.minimum(merged.best_auc_x/merged.best_auc_y,merged.best_auc_y/merged.best_auc_x)\n",
    "merged['div_ratio'] = np.minimum(merged.best_div_x/merged.best_div_y,merged.best_div_y/merged.best_div_x)\n",
    "merged.loc[merged.param == '1','param'] = 'p=1.0,q=1.0'\n",
    "merged.loc[merged.param == '9','param'] = 'p=9.0,q=0.11'\n",
    "merged.loc[merged.param == '0.11','param'] = 'p=0.11,q=9.0'\n",
    "corrs_auc = (merged[['best_auc_x', 'graph','landmarks_y','emb']]\n",
    "        .groupby(['graph','emb','landmarks_y'])\n",
    "        .corrwith(merged.best_auc_y)\n",
    "        .rename(columns={'best_auc_x' : 'Corr_Coef'}))\n",
    "corrs_auc = corrs_auc.reset_index()\n",
    "corrs_div = (merged[['best_div_x', 'graph','landmarks_y','emb']]\n",
    "        .groupby(['graph','emb','landmarks_y'])\n",
    "        .corrwith(merged.best_div_y)\n",
    "        .rename(columns={'best_div_x' : 'Corr_Coef'}))\n",
    "corrs_div = corrs_div.reset_index()\n",
    "for graph in [\"sbm10k\",\"lfr10k\",\"nlfr10k\"]:\n",
    "    for emb in [\"hope\",\"n2v\"]:\n",
    "        ## Ratio div\n",
    "        plt.clf()\n",
    "        mask = (merged.graph == graph) & (merged.emb == emb)\n",
    "        ax = sns.lineplot(x=\"landmarks_y\",y=\"div_ratio\",data=merged[mask])\n",
    "        display_graph = \"noisy LFR10k\" if graph == \"nlfr10k\" else graph.upper()\n",
    "        ax.set_title(f\"{display_graph} graph, {emb.upper()} embeddings\")\n",
    "        ax.set_xlabel(\"No. landmarks\")\n",
    "        ax.set_ylabel(\"Global score ratio\")\n",
    "        ax.plot(ax.get_xlim(),(1,1),color=\"gray\",linestyle=\"--\")\n",
    "        ax.get_figure().savefig(f'{plots_dir}/{graph}_{emb}_ratio_div.eps' , dpi=400)\n",
    "        ## Ratio AUC\n",
    "        plt.clf()\n",
    "        mask = (merged.graph == graph) & (merged.emb == emb)\n",
    "        ax = sns.lineplot(x=\"landmarks_y\",y=\"auc_ratio\",data=merged[mask])\n",
    "        display_graph = \"noisy LFR10k\" if graph == \"nlfr10k\" else graph.upper()\n",
    "        ax.set_title(f\"{display_graph} graph, {emb.upper()} embeddings\")\n",
    "        ax.set_xlabel(\"No. landmarks\")\n",
    "        ax.set_ylabel(\"Local score ratio\")\n",
    "        ax.plot(ax.get_xlim(),(1,1),color=\"gray\",linestyle=\"--\")\n",
    "        ax.get_figure().savefig(f'{plots_dir}/{graph}_{emb}_ratio_auc.eps' , dpi=400)\n",
    "        ## Correlation div\n",
    "        plt.clf()\n",
    "        mask = (corrs_div.graph == graph) & (corrs_div.emb == emb)\n",
    "        ax = sns.lineplot(x=\"landmarks_y\",y=\"Corr_Coef\",data=corrs_div[mask])\n",
    "        display_graph = \"noisy LFR10k\" if graph == \"nlfr10k\" else graph.upper()\n",
    "        ax.set_title(f\"{display_graph} graph, {emb.upper()} embeddings\")\n",
    "        ax.set_xlabel(\"No. landmarks\")\n",
    "        ax.set_ylabel(\"Correlation of global score\")\n",
    "        ax.plot(ax.get_xlim(),(1,1),color=\"gray\",linestyle=\"--\")\n",
    "        ax.get_figure().savefig(f'{plots_dir}/{graph}_{emb}_corr_div.eps' , dpi=400)\n",
    "        ## Correlation AUC\n",
    "        plt.clf()\n",
    "        mask = (corrs_auc.graph == graph) & (corrs_auc.emb == emb)\n",
    "        ax = sns.lineplot(x=\"landmarks_y\",y=\"Corr_Coef\",data=corrs_auc[mask])\n",
    "        display_graph = \"noisy LFR10k\" if graph == \"nlfr10k\" else graph.upper()\n",
    "        ax.set_title(f\"{display_graph} graph, {emb.upper()} embeddings\")\n",
    "        ax.set_xlabel(\"No. landmarks\")\n",
    "        ax.set_ylabel(\"Correlation of local score\")\n",
    "        ax.plot(ax.get_xlim(),(1,1),color=\"gray\",linestyle=\"--\")\n",
    "        ax.get_figure().savefig(f'{plots_dir}/{graph}_{emb}_corr_auc.eps' , dpi=400)"
   ]
  },
  {
   "cell_type": "code",
   "execution_count": null,
   "metadata": {},
   "outputs": [],
   "source": [
    "for emb in [\"hope\",\"n2v\"]:\n",
    "    ## Correlation div\n",
    "    plt.clf()\n",
    "    mask = corrs_div.emb == emb\n",
    "    ax = sns.lineplot(x=\"landmarks_y\",y=\"Corr_Coef\",hue=corrs_div[mask].graph,data=corrs_div[mask],style=\"graph\",\n",
    "    markers=\"h\"*3, dashes=False)\n",
    "    ax.set_title(f\"{emb.upper()} embeddings\")\n",
    "    ax.set_xlabel(\"No. landmarks\")\n",
    "    ax.set_ylabel(\"Correlation of global score\")\n",
    "    ax.plot(ax.get_xlim(),(1,1),color=\"gray\",linestyle=\"--\")\n",
    "    handles, labels = ax.get_legend_handles_labels()\n",
    "    ax.legend(handles=handles, labels=[\"LFR10k\",\"nLFR10k\",\"SBM10k\"])\n",
    "    ax.get_figure().savefig(f'{plots_dir}/{graph}_{emb}_corr_div_per_emb.eps' , dpi=400)\n",
    "    # Correlation AUC\n",
    "    plt.clf()\n",
    "    ax = sns.lineplot(x=\"landmarks_y\",y=\"Corr_Coef\",hue=corrs_div[mask].graph,data=corrs_auc[mask],style=\"graph\",\n",
    "    markers=\"h\"*3, dashes=False)\n",
    "    ax.set_title(f\"{emb.upper()} embeddings\")\n",
    "    ax.set_xlabel(\"No. landmarks\")\n",
    "    ax.set_ylabel(\"Correlation of local score\")\n",
    "    ax.plot(ax.get_xlim(),(1,1),color=\"gray\",linestyle=\"--\")\n",
    "    handles, labels = ax.get_legend_handles_labels()\n",
    "    ax.legend(handles=handles, labels=[\"LFR10k\",\"nLFR10k\",\"SBM10k\"])\n",
    "    ax.get_figure().savefig(f'{plots_dir}/{emb}_corr_auc_per_emb.eps' , dpi=400)"
   ]
  },
  {
   "cell_type": "markdown",
   "metadata": {},
   "source": [
    "# Community detection"
   ]
  },
  {
   "cell_type": "code",
   "execution_count": null,
   "metadata": {},
   "outputs": [],
   "source": [
    "merged = scatterplots(\"exp_comm_detect\",['results/exact_scores.csv','results/comm_detection.csv'],\n",
    "             \"best_auc\",\"accuracy\",\"Exact local score\",\"Accuracy\",\"auc\")"
   ]
  },
  {
   "cell_type": "code",
   "execution_count": null,
   "metadata": {},
   "outputs": [],
   "source": [
    "merged = scatterplots(\"exp_comm_detect\",['results/exact_scores.csv','results/comm_detection.csv'],\n",
    "             \"best_div\",\"accuracy\",\"Exact global score\",\"Accuracy\",\"div\")"
   ]
  },
  {
   "cell_type": "code",
   "execution_count": null,
   "metadata": {},
   "outputs": [],
   "source": [
    "correlations(merged, \"accuracy\")"
   ]
  },
  {
   "cell_type": "code",
   "execution_count": null,
   "metadata": {},
   "outputs": [],
   "source": [
    "normalized_plots(\"exp_normalized_scores\",['results/exact_scores.csv','results/comm_detection.csv'],\n",
    "                 ['accuracy','Accuracy'],\", accuracy in community detection\",\"acc\",0.1)"
   ]
  },
  {
   "cell_type": "markdown",
   "metadata": {},
   "source": [
    "# Clustering"
   ]
  },
  {
   "cell_type": "code",
   "execution_count": null,
   "metadata": {},
   "outputs": [],
   "source": [
    "merged = scatterplots(\"exp_clustering\",['results/exact_scores.csv','results/clustering.csv'],\n",
    "             \"best_auc\",\"ami\",\"Exact local score\",\"AMI\",\"auc\",False)"
   ]
  },
  {
   "cell_type": "code",
   "execution_count": null,
   "metadata": {},
   "outputs": [],
   "source": [
    "merged = scatterplots(\"exp_clustering\",['results/exact_scores.csv','results/clustering.csv'],\n",
    "             \"best_div\",\"ami\",\"Exact global score\",\"AMI\",\"div\",False)"
   ]
  },
  {
   "cell_type": "code",
   "execution_count": null,
   "metadata": {},
   "outputs": [],
   "source": [
    "correlations(merged, \"ami\")"
   ]
  },
  {
   "cell_type": "code",
   "execution_count": null,
   "metadata": {},
   "outputs": [],
   "source": [
    "normalized_plots(\"exp_normalized_scores\",['results/exact_scores.csv','results/clustering.csv'],\n",
    "                 ['ami','AMI'],\", AMI in clustering\",\"ami\",0.1)"
   ]
  },
  {
   "cell_type": "markdown",
   "metadata": {},
   "source": [
    "# Link prediction"
   ]
  },
  {
   "cell_type": "code",
   "execution_count": null,
   "metadata": {},
   "outputs": [],
   "source": [
    "ls = glob.glob('linkpred_results/*')\n",
    "dfs = [pd.read_csv(l) for l in ls]\n",
    "df = pd.concat(dfs)\n",
    "df.to_csv(\"results/link_prediction.csv\",index=False)"
   ]
  },
  {
   "cell_type": "code",
   "execution_count": null,
   "metadata": {},
   "outputs": [],
   "source": [
    "merged = scatterplots(\"exp_link_prediction\",'results/link_prediction.csv',\n",
    "             \"best_auc\",\"auc\",\"Exact local score\",\"AUC\",\"auc\")"
   ]
  },
  {
   "cell_type": "code",
   "execution_count": null,
   "metadata": {},
   "outputs": [],
   "source": [
    "merged = scatterplots(\"exp_link_prediction\",'results/link_prediction.csv',\n",
    "             \"best_div\",\"auc\",\"Exact global score\",\"AUC\",\"div\")"
   ]
  },
  {
   "cell_type": "code",
   "execution_count": null,
   "metadata": {},
   "outputs": [],
   "source": [
    "correlations(merged, \"auc\")"
   ]
  },
  {
   "cell_type": "code",
   "execution_count": null,
   "metadata": {},
   "outputs": [],
   "source": [
    "merged = scatterplots(\"exp_link_prediction\",'results/link_prediction.csv',\n",
    "             \"best_auc\",\"auc_swap\",\"Exact local score\",\"AUC\",\"auc_swap\")"
   ]
  },
  {
   "cell_type": "code",
   "execution_count": null,
   "metadata": {},
   "outputs": [],
   "source": [
    "merged = scatterplots(\"exp_link_prediction\",'results/link_prediction.csv',\n",
    "             \"best_div\",\"auc_swap\",\"Exact global score\",\"AUC\",\"div_swap\")"
   ]
  },
  {
   "cell_type": "code",
   "execution_count": null,
   "metadata": {},
   "outputs": [],
   "source": [
    "correlations(merged, \"auc_swap\")"
   ]
  },
  {
   "cell_type": "code",
   "execution_count": null,
   "metadata": {},
   "outputs": [],
   "source": [
    "merged = scatterplots(\"exp_link_prediction\",'results/link_prediction.csv',\n",
    "             \"best_auc\",\"auc_deg\",\"Exact local score\",\"AUC\",\"auc_deg\")"
   ]
  },
  {
   "cell_type": "code",
   "execution_count": null,
   "metadata": {},
   "outputs": [],
   "source": [
    "merged = scatterplots(\"exp_link_prediction\",'results/link_prediction.csv',\n",
    "             \"best_div\",\"auc_deg\",\"Exact global score\",\"AUC\",\"auc_deg\")"
   ]
  },
  {
   "cell_type": "code",
   "execution_count": null,
   "metadata": {},
   "outputs": [],
   "source": [
    "correlations(merged, \"auc_deg\")"
   ]
  },
  {
   "cell_type": "code",
   "execution_count": null,
   "metadata": {},
   "outputs": [],
   "source": [
    "normalized_plots(\"exp_normalized_scores\",'results/link_prediction.csv',\n",
    "                 ['auc','AUC'],\", AUC in link prediction\",\"auc\",0.7)"
   ]
  }
 ],
 "metadata": {
  "kernelspec": {
   "display_name": "Python 3 (ipykernel)",
   "language": "python",
   "name": "python3"
  },
  "language_info": {
   "codemirror_mode": {
    "name": "ipython",
    "version": 3
   },
   "file_extension": ".py",
   "mimetype": "text/x-python",
   "name": "python",
   "nbconvert_exporter": "python",
   "pygments_lexer": "ipython3",
   "version": "3.9.7"
  },
  "toc": {
   "base_numbering": 1,
   "nav_menu": {},
   "number_sections": true,
   "sideBar": true,
   "skip_h1_title": false,
   "title_cell": "Table of Contents",
   "title_sidebar": "Contents",
   "toc_cell": false,
   "toc_position": {},
   "toc_section_display": true,
   "toc_window_display": false
  }
 },
 "nbformat": 4,
 "nbformat_minor": 4
}
