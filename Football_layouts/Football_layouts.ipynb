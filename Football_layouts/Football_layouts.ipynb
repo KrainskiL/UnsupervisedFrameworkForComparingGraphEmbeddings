{
 "cells": [
  {
   "cell_type": "code",
   "execution_count": null,
   "id": "b9115284",
   "metadata": {},
   "outputs": [],
   "source": [
    "import numpy as np\n",
    "import pandas as pd\n",
    "import os\n",
    "import subprocess\n",
    "import igraph as ig\n",
    "import networkx as nx\n",
    "from node2vec import Node2Vec\n",
    "import umap\n",
    "\n",
    "import matplotlib.pyplot as plt\n",
    "import seaborn as sns\n",
    "\n",
    "from ..common import Hope\n",
    "\n",
    "def saveEmbedding(X, g, fn='_embed'):\n",
    "    with open(fn,'w') as f:\n",
    "        for i in range(X.shape[0]):\n",
    "            f.write(g.vs[i]['name']+' ')\n",
    "            for j in range(X.shape[1]):\n",
    "                f.write(str(X[i][j])+' ')\n",
    "            f.write('\\n')"
   ]
  },
  {
   "cell_type": "code",
   "execution_count": null,
   "id": "1c342869",
   "metadata": {},
   "outputs": [],
   "source": [
    "os.makedirs(\"embeddings\",exist_ok=True)"
   ]
  },
  {
   "cell_type": "code",
   "execution_count": null,
   "id": "e2f78c08",
   "metadata": {},
   "outputs": [],
   "source": [
    "for graph in [\"football\"]:\n",
    "        g = ig.Graph.Read_Edgelist(\"football.edgelist\",directed=False)\n",
    "        g.vs['name'] = [str(i) for i in np.arange(g.vcount())]\n",
    "        for dim in range(2,33,2):\n",
    "            for sim in [\"cn\"]:\n",
    "                X = Hope(g, sim = sim, dim = dim)\n",
    "                fname = f'embeddings/hope-{graph}-{sim}-{dim}'\n",
    "                saveEmbedding(X, g, fn=fname)\n",
    "\n",
    "for graph in [\"football\"]:\n",
    "        g = nx.read_edgelist('football.edgelist')\n",
    "        for dim in range(2,33,2):\n",
    "            for p_val in [1,0.11,9]:\n",
    "                node2vec = Node2Vec(g, dimensions=dim, p=p_val, q=1/p_val, quiet=True, workers=4, seed=42)\n",
    "                model = node2vec.fit()\n",
    "                fname = f\"embeddings/n2v-{graph}-p{round(p_val,2)}-{dim}\"\n",
    "                model.wv.save_word2vec_format(fname)"
   ]
  },
  {
   "cell_type": "code",
   "execution_count": null,
   "id": "effe17fa",
   "metadata": {
    "scrolled": true
   },
   "outputs": [],
   "source": [
    "header = \"graph,emb,dim,param,best_alpha,best_div,best_div_ext,best_div_int,best_alpha_auc,best_auc,best_auc_errc\\n\"\n",
    "p_dict = {\"cn\":1,\"ppr\":9,\"aa\":0.11}\n",
    "with open(f\"results_football.csv\",\"w\") as fcsv:\n",
    "    fcsv.write(header)\n",
    "    for graph in ['football']:\n",
    "        for emb in ['hope','n2v']:\n",
    "            for dim in range(4,31,2):\n",
    "                for param in [\"cn\",\"ppr\",\"aa\"]:\n",
    "                    embedding = f'{emb}-{graph}-{param}-{dim}'\n",
    "                    if emb == \"n2v\":\n",
    "                        param = p_dict[param]\n",
    "                        embedding  = f'{emb}-{graph}-p{param}-{dim}'\n",
    "                    out = subprocess.check_output(f'julia ../CGE_CLI.jl -g football.edgelist -c football.ecg -e embeddings/{embedding} --seed 32',shell=True)\n",
    "                    out = eval(out.decode('utf-8'))\n",
    "                    line = f\"{graph},{emb},{dim},{param},{out[0]},{out[1]},{out[2]},{out[3]},{out[4]},{out[5]},{out[6]}\\n\"\n",
    "                    fcsv.write(line)\n",
    "                    print(line)"
   ]
  },
  {
   "cell_type": "code",
   "execution_count": null,
   "id": "08aaa55d",
   "metadata": {},
   "outputs": [],
   "source": [
    "merged = pd.read_csv(\"results_football.csv\")\n",
    "min_scores = merged[['graph','best_div','best_auc']].groupby(['graph',]).min().reset_index().rename(columns={'best_div':'min_div','best_auc':'min_auc'})\n",
    "merged_min = merged.merge(min_scores,on=[\"graph\"])\n",
    "merged_min['normalized_div'] = (merged_min.best_div+0.01)/(merged_min.min_div+0.01)\n",
    "merged_min['normalized_auc'] = (merged_min.best_auc+0.01)/(merged_min.min_auc+0.01)\n",
    "for graph in [\"football\"]:\n",
    "        plt.clf()\n",
    "        mask = (merged_min.graph == graph)\n",
    "        ax = sns.scatterplot(x=\"normalized_auc\",y=\"normalized_div\",hue=\"emb\",size=\"dim\", alpha=0.6,data=merged_min[mask])\n",
    "        ax.set_title(\"Football graph\")\n",
    "        ax.set_xlabel(\"Normalized local score\")\n",
    "        ax.set_ylabel(\"Normalized global score\")\n",
    "        handles, labels = ax.get_legend_handles_labels()\n",
    "        ax.legend(handles=handles[:5]+[handles[-1]], labels=[\"Emb\",\"HOPE\",\"N2V\",\"Dim\",\"4\",\"30\"],loc=\"upper right\")\n",
    "        ax.get_figure().savefig(f'{graph}_normalized.pdf' , dpi=400)"
   ]
  },
  {
   "cell_type": "code",
   "execution_count": null,
   "id": "e92f3fe2",
   "metadata": {},
   "outputs": [],
   "source": [
    "merged_min['mixed_score'] = 0.5*(merged_min.best_auc+0.01)/(merged_min.min_auc+0.01)+0.5*(merged_min.best_div+0.01)/(merged_min.min_div+0.01)"
   ]
  },
  {
   "cell_type": "code",
   "execution_count": null,
   "id": "56ee5ba2",
   "metadata": {},
   "outputs": [],
   "source": [
    "merged_min[merged_min.mixed_score == merged_min.mixed_score.min()]"
   ]
  },
  {
   "cell_type": "code",
   "execution_count": null,
   "id": "7a76ab74",
   "metadata": {},
   "outputs": [],
   "source": [
    "merged_min[merged_min.mixed_score == merged_min.mixed_score.max()]"
   ]
  },
  {
   "cell_type": "code",
   "execution_count": null,
   "id": "bd42a667",
   "metadata": {},
   "outputs": [],
   "source": [
    "merged_min[merged_min.best_div == merged_min.best_div.min()]"
   ]
  },
  {
   "cell_type": "code",
   "execution_count": null,
   "id": "0dc793aa",
   "metadata": {},
   "outputs": [],
   "source": [
    "## Read embedding from file in node2vec format\n",
    "## Map to layout format\n",
    "## for visualization, we use UMAP if dim > 2\n",
    "def embed2layout(fn=\"_embed\",n2v=True):\n",
    "    if n2v:\n",
    "        D = pd.read_csv(fn, sep=' ', skiprows=1, header=None)\n",
    "    else:\n",
    "        D = pd.read_csv(fn, sep=' ', header=None)\n",
    "    D = D.dropna(axis=1)\n",
    "    D = D.sort_values(by=0)\n",
    "    Y = np.array(D.iloc[:,1:])\n",
    "    if Y.shape[1]>2:\n",
    "        Y = umap.UMAP().fit_transform(Y)\n",
    "    ly = []\n",
    "    for v in range(Y.shape[0]):\n",
    "        ly.append((Y[v][0],Y[v][1]))\n",
    "    return ly"
   ]
  },
  {
   "cell_type": "code",
   "execution_count": null,
   "id": "0f12f387",
   "metadata": {},
   "outputs": [],
   "source": [
    "cfg = ig.Graph.Read_Ncol('football.edgelist',directed=False)\n",
    "c = np.loadtxt('football.ecg',dtype='uint16',usecols=(0))\n",
    "cfg.vs['community'] = [c[int(x['name'])] for x in cfg.vs]"
   ]
  },
  {
   "cell_type": "code",
   "execution_count": null,
   "id": "22dd6b1b",
   "metadata": {},
   "outputs": [],
   "source": [
    "pal = ig.RainbowPalette(n=max(cfg.vs['community'])+1) \n",
    "cfg.vs['color'] = [pal.get(int(i)) for i in cfg.vs['community']]\n",
    "l = embed2layout('embeddings/n2v-football-p0.11-12')\n",
    "cfg.vs['ly'] = [l[int(v['name'])] for v in cfg.vs]\n",
    "ig.plot(cfg, target='best_emb_layout.eps',layout=cfg.vs['ly'], bbox=(0,0,500,300), vertex_size=8, edge_color='lightgray')\n",
    "l = embed2layout('embeddings/n2v-football-p0.11-4')\n",
    "cfg.vs['ly'] = [l[int(v['name'])] for v in cfg.vs]\n",
    "ig.plot(cfg, target='worst_emb_layout.eps',layout=cfg.vs['ly'], bbox=(0,0,500,300), vertex_size=8, edge_color='lightgray')\n",
    "l = embed2layout('embeddings/hope-football-cn-4',False)\n",
    "cfg.vs['ly'] = [l[int(v['name'])] for v in cfg.vs]\n",
    "ig.plot(cfg, target='worst_emb_div_layout.eps',layout=cfg.vs['ly'], bbox=(0,0,500,300), vertex_size=8, edge_color='lightgray')"
   ]
  }
 ],
 "metadata": {
  "kernelspec": {
   "display_name": "Python 3 (ipykernel)",
   "language": "python",
   "name": "python3"
  },
  "language_info": {
   "codemirror_mode": {
    "name": "ipython",
    "version": 3
   },
   "file_extension": ".py",
   "mimetype": "text/x-python",
   "name": "python",
   "nbconvert_exporter": "python",
   "pygments_lexer": "ipython3",
   "version": "3.9.7"
  },
  "toc": {
   "base_numbering": 1,
   "nav_menu": {},
   "number_sections": true,
   "sideBar": true,
   "skip_h1_title": false,
   "title_cell": "Table of Contents",
   "title_sidebar": "Contents",
   "toc_cell": false,
   "toc_position": {},
   "toc_section_display": true,
   "toc_window_display": false
  }
 },
 "nbformat": 4,
 "nbformat_minor": 5
}
