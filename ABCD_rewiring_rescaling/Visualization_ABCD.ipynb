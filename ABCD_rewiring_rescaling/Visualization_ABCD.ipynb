{
 "cells": [
  {
   "cell_type": "code",
   "execution_count": null,
   "id": "e5733270",
   "metadata": {},
   "outputs": [],
   "source": [
    "import pandas as pd\n",
    "import matplotlib.pyplot as plt\n",
    "import os"
   ]
  },
  {
   "cell_type": "code",
   "execution_count": null,
   "id": "4f076989",
   "metadata": {},
   "outputs": [],
   "source": [
    "datadir = \"exps_ABCD\"\n",
    "os.makedirs(datadir,exist_ok=True)"
   ]
  },
  {
   "cell_type": "code",
   "execution_count": null,
   "id": "8b86f54e",
   "metadata": {},
   "outputs": [],
   "source": [
    "df = pd.read_csv('rewiring.csv')\n",
    "fig, ax1 = plt.subplots()\n",
    "ax2 = ax1.twinx()\n",
    "frac = [.0,.2,.4,.6,.8,1.]\n",
    "ln1 = ax1.plot(frac,df.auc,'o--',label='AUC')\n",
    "ln2 = ax2.plot(frac,df.best_auc,'og-',label='Local score')\n",
    "ln3 = ax2.plot(frac,df.best_div,'or-',label='Global score')\n",
    "ax1.set_xlabel('Fraction of rewired edges')\n",
    "ax1.set_ylabel('AUC')\n",
    "ax2.set_ylabel('Embedding score')\n",
    "plt.title('ABCD graph, N2V embedding, 32 dim')\n",
    "lns = ln1+ln2+ln3\n",
    "labs = [l.get_label() for l in lns]\n",
    "plt.legend(lns, labs)\n",
    "plt.savefig(f'{datadir}/rewiring_32dim_n2v.eps', bbox_inches='tight',dpi=300)"
   ]
  },
  {
   "cell_type": "code",
   "execution_count": null,
   "id": "3860a90d",
   "metadata": {},
   "outputs": [],
   "source": [
    "df = pd.read_csv('rescaling.csv')\n",
    "fig, ax1 = plt.subplots()\n",
    "frac = [1.,1.1,1.2,1.3,1.4,1.5]\n",
    "ax2 = ax1.twinx()\n",
    "ln1 = ax1.plot(frac,df.acc,'o--',label='Accuracy')\n",
    "ln2 = ax1.plot(frac,df.ami,'o--',label='AMI')\n",
    "ln3 = ax2.plot(frac,df.best_auc,'og-',label='Local score')\n",
    "ln4 = ax2.plot(frac,df.best_div,'or-',label='Global score')\n",
    "ax1.set_xlabel('Rescaling factor')\n",
    "ax1.set_ylabel('AMI/Accuracy')\n",
    "ax2.set_ylabel('Embedding score')\n",
    "plt.title('ABCD graph, N2V embedding, 32 dim')\n",
    "lns = ln1+ln2+ln3+ln4\n",
    "labs = [l.get_label() for l in lns]\n",
    "plt.legend(lns, labs,loc='center left')\n",
    "fig.savefig(f'{datadir}/rescaling_32dim_n2v.eps', bbox_inches='tight',dpi=300)"
   ]
  }
 ],
 "metadata": {
  "kernelspec": {
   "display_name": "Python 3 (ipykernel)",
   "language": "python",
   "name": "python3"
  },
  "language_info": {
   "codemirror_mode": {
    "name": "ipython",
    "version": 3
   },
   "file_extension": ".py",
   "mimetype": "text/x-python",
   "name": "python",
   "nbconvert_exporter": "python",
   "pygments_lexer": "ipython3",
   "version": "3.9.7"
  },
  "toc": {
   "base_numbering": 1,
   "nav_menu": {},
   "number_sections": true,
   "sideBar": true,
   "skip_h1_title": false,
   "title_cell": "Table of Contents",
   "title_sidebar": "Contents",
   "toc_cell": false,
   "toc_position": {},
   "toc_section_display": true,
   "toc_window_display": false
  }
 },
 "nbformat": 4,
 "nbformat_minor": 5
}
